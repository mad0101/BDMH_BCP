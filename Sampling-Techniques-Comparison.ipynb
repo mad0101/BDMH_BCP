{
  "cells": [
    {
      "cell_type": "markdown",
      "metadata": {
        "id": "view-in-github",
        "colab_type": "text"
      },
      "source": [
        "<a href=\"https://colab.research.google.com/github/mad0101/BDMH_BCP/blob/main/Sampling-Techniques-Comparison.ipynb\" target=\"_parent\"><img src=\"https://colab.research.google.com/assets/colab-badge.svg\" alt=\"Open In Colab\"/></a>"
      ]
    },
    {
      "cell_type": "markdown",
      "metadata": {
        "id": "XC1hpdSWp3hN"
      },
      "source": [
        "## 0.0 Check Available GPU/ CPU"
      ]
    },
    {
      "cell_type": "code",
      "execution_count": 1,
      "metadata": {
        "colab": {
          "base_uri": "https://localhost:8080/"
        },
        "id": "U8ASAnRmpP_U",
        "outputId": "1b58ae9f-5812-4c79-906e-b0f7f829848b"
      },
      "outputs": [
        {
          "output_type": "stream",
          "name": "stdout",
          "text": [
            "Tue Dec  5 13:25:28 2023       \n",
            "+-----------------------------------------------------------------------------+\n",
            "| NVIDIA-SMI 525.105.17   Driver Version: 525.105.17   CUDA Version: 12.0     |\n",
            "|-------------------------------+----------------------+----------------------+\n",
            "| GPU  Name        Persistence-M| Bus-Id        Disp.A | Volatile Uncorr. ECC |\n",
            "| Fan  Temp  Perf  Pwr:Usage/Cap|         Memory-Usage | GPU-Util  Compute M. |\n",
            "|                               |                      |               MIG M. |\n",
            "|===============================+======================+======================|\n",
            "|   0  Tesla T4            Off  | 00000000:00:04.0 Off |                    0 |\n",
            "| N/A   37C    P8     9W /  70W |      0MiB / 15360MiB |      0%      Default |\n",
            "|                               |                      |                  N/A |\n",
            "+-------------------------------+----------------------+----------------------+\n",
            "                                                                               \n",
            "+-----------------------------------------------------------------------------+\n",
            "| Processes:                                                                  |\n",
            "|  GPU   GI   CI        PID   Type   Process name                  GPU Memory |\n",
            "|        ID   ID                                                   Usage      |\n",
            "|=============================================================================|\n",
            "|  No running processes found                                                 |\n",
            "+-----------------------------------------------------------------------------+\n"
          ]
        }
      ],
      "source": [
        "!nvidia-smi"
      ]
    },
    {
      "cell_type": "markdown",
      "metadata": {
        "id": "goNRU1XIpaui"
      },
      "source": [
        "## 0.1 Install Required Packages"
      ]
    },
    {
      "cell_type": "code",
      "execution_count": 2,
      "metadata": {
        "colab": {
          "base_uri": "https://localhost:8080/"
        },
        "id": "Ecr0n_E0pRG6",
        "outputId": "40a8d828-2a21-4bd1-a6a4-af778a308f09"
      },
      "outputs": [
        {
          "output_type": "stream",
          "name": "stdout",
          "text": [
            "Collecting git+https://github.com/modAL-python/modAL.git\n",
            "  Cloning https://github.com/modAL-python/modAL.git to /tmp/pip-req-build-vpy_l7u5\n",
            "  Running command git clone --filter=blob:none --quiet https://github.com/modAL-python/modAL.git /tmp/pip-req-build-vpy_l7u5\n",
            "  Resolved https://github.com/modAL-python/modAL.git to commit bba6f6fd00dbb862b1e09259b78caf6cffa2e755\n",
            "  Preparing metadata (setup.py) ... \u001b[?25l\u001b[?25hdone\n",
            "Collecting skorch\n",
            "  Downloading skorch-0.15.0-py3-none-any.whl (239 kB)\n",
            "\u001b[2K     \u001b[90m━━━━━━━━━━━━━━━━━━━━━━━━━━━━━━━━━━━━━━━━\u001b[0m \u001b[32m239.3/239.3 kB\u001b[0m \u001b[31m2.0 MB/s\u001b[0m eta \u001b[36m0:00:00\u001b[0m\n",
            "\u001b[?25hRequirement already satisfied: numpy in /usr/local/lib/python3.10/dist-packages (from modAL-python==0.4.2) (1.23.5)\n",
            "Requirement already satisfied: scikit-learn>=0.18 in /usr/local/lib/python3.10/dist-packages (from modAL-python==0.4.2) (1.2.2)\n",
            "Requirement already satisfied: scipy>=0.18 in /usr/local/lib/python3.10/dist-packages (from modAL-python==0.4.2) (1.11.4)\n",
            "Requirement already satisfied: pandas>=1.1.0 in /usr/local/lib/python3.10/dist-packages (from modAL-python==0.4.2) (1.5.3)\n",
            "  Downloading skorch-0.9.0-py3-none-any.whl (125 kB)\n",
            "\u001b[2K     \u001b[90m━━━━━━━━━━━━━━━━━━━━━━━━━━━━━━━━━━━━━━━━\u001b[0m \u001b[32m125.8/125.8 kB\u001b[0m \u001b[31m11.7 MB/s\u001b[0m eta \u001b[36m0:00:00\u001b[0m\n",
            "\u001b[?25hRequirement already satisfied: tabulate>=0.7.7 in /usr/local/lib/python3.10/dist-packages (from skorch) (0.9.0)\n",
            "Requirement already satisfied: tqdm>=4.14.0 in /usr/local/lib/python3.10/dist-packages (from skorch) (4.66.1)\n",
            "Requirement already satisfied: python-dateutil>=2.8.1 in /usr/local/lib/python3.10/dist-packages (from pandas>=1.1.0->modAL-python==0.4.2) (2.8.2)\n",
            "Requirement already satisfied: pytz>=2020.1 in /usr/local/lib/python3.10/dist-packages (from pandas>=1.1.0->modAL-python==0.4.2) (2023.3.post1)\n",
            "Requirement already satisfied: joblib>=1.1.1 in /usr/local/lib/python3.10/dist-packages (from scikit-learn>=0.18->modAL-python==0.4.2) (1.3.2)\n",
            "Requirement already satisfied: threadpoolctl>=2.0.0 in /usr/local/lib/python3.10/dist-packages (from scikit-learn>=0.18->modAL-python==0.4.2) (3.2.0)\n",
            "Requirement already satisfied: six>=1.5 in /usr/local/lib/python3.10/dist-packages (from python-dateutil>=2.8.1->pandas>=1.1.0->modAL-python==0.4.2) (1.16.0)\n",
            "Building wheels for collected packages: modAL-python\n",
            "  Building wheel for modAL-python (setup.py) ... \u001b[?25l\u001b[?25hdone\n",
            "  Created wheel for modAL-python: filename=modAL_python-0.4.2-py3-none-any.whl size=32650 sha256=1384262c83c70c40137e3043d50c5262428304d18841a7a999636c07b94e5edd\n",
            "  Stored in directory: /tmp/pip-ephem-wheel-cache-jhh91m0n/wheels/d9/fb/59/7deb61b460c1c36394cd093758986ff7d36f71352dcb2e02c5\n",
            "Successfully built modAL-python\n",
            "Installing collected packages: skorch, modAL-python\n",
            "Successfully installed modAL-python-0.4.2 skorch-0.9.0\n"
          ]
        }
      ],
      "source": [
        "!pip install git+https://github.com/modAL-python/modAL.git skorch"
      ]
    },
    {
      "cell_type": "markdown",
      "metadata": {
        "id": "bueqgwbEptmK"
      },
      "source": [
        "## 1.0 Load Packages"
      ]
    },
    {
      "cell_type": "code",
      "execution_count": 3,
      "metadata": {
        "colab": {
          "base_uri": "https://localhost:8080/"
        },
        "id": "8POGnEXmpm5Q",
        "outputId": "bf131177-8b30-44a0-e6eb-f5dd0b60812d"
      },
      "outputs": [
        {
          "output_type": "stream",
          "name": "stderr",
          "text": [
            "<ipython-input-3-5d0e6c78b693>:17: DeprecationWarning: Please use `gaussian_filter1d` from the `scipy.ndimage` namespace, the `scipy.ndimage.filters` namespace is deprecated.\n",
            "  from scipy.ndimage.filters import gaussian_filter1d\n"
          ]
        }
      ],
      "source": [
        "%matplotlib inline\n",
        "\n",
        "import numpy as np\n",
        "import matplotlib\n",
        "import matplotlib.pyplot as plt\n",
        "import os\n",
        "import scipy as sp\n",
        "import seaborn as sns\n",
        "import time\n",
        "import torch\n",
        "import torch.nn as nn\n",
        "import torch.nn.functional as F\n",
        "import torchvision.transforms as transforms\n",
        "\n",
        "from modAL.models import ActiveLearner, BayesianOptimizer\n",
        "from scipy import stats\n",
        "from scipy.ndimage.filters import gaussian_filter1d\n",
        "from scipy.spatial.distance import pdist, squareform\n",
        "from skorch import NeuralNetClassifier\n",
        "from torchvision.datasets import MNIST\n",
        "from torch.utils.data import DataLoader, random_split"
      ]
    },
    {
      "cell_type": "markdown",
      "metadata": {
        "id": "8HpwjzqMt3F4"
      },
      "source": [
        "## 1.1 Load Datasets"
      ]
    },
    {
      "cell_type": "code",
      "execution_count": 4,
      "metadata": {
        "id": "l_2IgrT6vlrC"
      },
      "outputs": [],
      "source": [
        "def tensor_to_np(tensor_data: torch.Tensor) -> np.ndarray:\n",
        "    \"\"\"Since Skorch doesn not support dtype of torch.Tensor, we will modify\n",
        "    the dtype to numpy.ndarray\n",
        "    Attribute:\n",
        "        tensor_data: Data of class type=torch.Tensor\n",
        "    \"\"\"\n",
        "    np_data = tensor_data.detach().numpy()\n",
        "    return np_data"
      ]
    },
    {
      "cell_type": "code",
      "execution_count": 5,
      "metadata": {
        "id": "LFdIPFfvvn3n"
      },
      "outputs": [],
      "source": [
        "TRAIN_SIZE = 10000\n",
        "VAL_SIZE = 300\n",
        "POOL_SIZE = 60000 - TRAIN_SIZE - VAL_SIZE"
      ]
    },
    {
      "cell_type": "code",
      "execution_count": 6,
      "metadata": {
        "colab": {
          "base_uri": "https://localhost:8080/"
        },
        "id": "mFX1jgiTt2Xs",
        "outputId": "1d837c02-5924-4086-b45b-181e1592d755"
      },
      "outputs": [
        {
          "output_type": "stream",
          "name": "stdout",
          "text": [
            "Downloading http://yann.lecun.com/exdb/mnist/train-images-idx3-ubyte.gz\n",
            "Downloading http://yann.lecun.com/exdb/mnist/train-images-idx3-ubyte.gz to ./MNIST/raw/train-images-idx3-ubyte.gz\n"
          ]
        },
        {
          "output_type": "stream",
          "name": "stderr",
          "text": [
            "100%|██████████| 9912422/9912422 [00:00<00:00, 27407003.18it/s]\n"
          ]
        },
        {
          "output_type": "stream",
          "name": "stdout",
          "text": [
            "Extracting ./MNIST/raw/train-images-idx3-ubyte.gz to ./MNIST/raw\n",
            "\n",
            "Downloading http://yann.lecun.com/exdb/mnist/train-labels-idx1-ubyte.gz\n",
            "Downloading http://yann.lecun.com/exdb/mnist/train-labels-idx1-ubyte.gz to ./MNIST/raw/train-labels-idx1-ubyte.gz\n"
          ]
        },
        {
          "output_type": "stream",
          "name": "stderr",
          "text": [
            "100%|██████████| 28881/28881 [00:00<00:00, 97219657.96it/s]\n"
          ]
        },
        {
          "output_type": "stream",
          "name": "stdout",
          "text": [
            "Extracting ./MNIST/raw/train-labels-idx1-ubyte.gz to ./MNIST/raw\n",
            "\n",
            "Downloading http://yann.lecun.com/exdb/mnist/t10k-images-idx3-ubyte.gz\n",
            "Downloading http://yann.lecun.com/exdb/mnist/t10k-images-idx3-ubyte.gz to ./MNIST/raw/t10k-images-idx3-ubyte.gz\n"
          ]
        },
        {
          "output_type": "stream",
          "name": "stderr",
          "text": [
            "100%|██████████| 1648877/1648877 [00:00<00:00, 25405242.75it/s]\n"
          ]
        },
        {
          "output_type": "stream",
          "name": "stdout",
          "text": [
            "Extracting ./MNIST/raw/t10k-images-idx3-ubyte.gz to ./MNIST/raw\n",
            "\n",
            "Downloading http://yann.lecun.com/exdb/mnist/t10k-labels-idx1-ubyte.gz\n",
            "Downloading http://yann.lecun.com/exdb/mnist/t10k-labels-idx1-ubyte.gz to ./MNIST/raw/t10k-labels-idx1-ubyte.gz\n"
          ]
        },
        {
          "output_type": "stream",
          "name": "stderr",
          "text": [
            "100%|██████████| 4542/4542 [00:00<00:00, 18604032.00it/s]"
          ]
        },
        {
          "output_type": "stream",
          "name": "stdout",
          "text": [
            "Extracting ./MNIST/raw/t10k-labels-idx1-ubyte.gz to ./MNIST/raw\n",
            "\n"
          ]
        },
        {
          "output_type": "stream",
          "name": "stderr",
          "text": [
            "\n"
          ]
        }
      ],
      "source": [
        "transform = transforms.Compose(\n",
        "    [transforms.ToTensor(), transforms.Normalize((0.1307,), (0.3081,))]\n",
        ")\n",
        "\n",
        "mnist_train = MNIST(\".\", train=True, download=True, transform=transform)\n",
        "mnist_test = MNIST(\".\", train=False, download=True, transform=transform)\n",
        "\n",
        "\n",
        "train_set, val_set, pool_set = random_split(\n",
        "    mnist_train, [TRAIN_SIZE, VAL_SIZE, POOL_SIZE]\n",
        ")\n",
        "train_loader = DataLoader(dataset=train_set, batch_size=TRAIN_SIZE, shuffle=True)\n",
        "val_loader = DataLoader(dataset=val_set, batch_size=VAL_SIZE, shuffle=True)\n",
        "pool_loader = DataLoader(dataset=pool_set, batch_size=POOL_SIZE, shuffle=True)\n",
        "test_loader = DataLoader(dataset=mnist_test, batch_size=10000, shuffle=True)\n",
        "\n",
        "\n",
        "X_train_All, y_train_All = next(iter(train_loader))\n",
        "X_val, y_val = next(iter(val_loader))\n",
        "X_pool, y_pool = next(iter(pool_loader))\n",
        "X_test, y_test = next(iter(test_loader))"
      ]
    },
    {
      "cell_type": "markdown",
      "metadata": {
        "id": "tlchr4cM4nu4"
      },
      "source": [
        "To build a binary classification model for MNIST, we will first select the target number. (For instance, digit 9) Next, change the label to True or False, if image==9, return True and vice versa."
      ]
    },
    {
      "cell_type": "code",
      "execution_count": 7,
      "metadata": {
        "id": "VZlkJNJm6xnJ"
      },
      "outputs": [],
      "source": [
        "y_train_All_9 = y_train_All == 9\n",
        "y_val_9 = y_val == 9\n",
        "y_pool_9 = y_pool == 9\n",
        "y_test_9 = y_test == 9"
      ]
    },
    {
      "cell_type": "code",
      "execution_count": 9,
      "metadata": {
        "colab": {
          "base_uri": "https://localhost:8080/"
        },
        "id": "xK_QChjqvZws",
        "outputId": "abb9d91b-85db-4a0d-c4dd-bd85f5182a1b"
      },
      "outputs": [
        {
          "output_type": "stream",
          "name": "stdout",
          "text": [
            "Initial training data points: 20\n",
            "Data distribution for each class: [10 10]\n"
          ]
        }
      ],
      "source": [
        "initial_idx = np.array([], dtype=int)\n",
        "state = True\n",
        "\n",
        "for i in range(2):\n",
        "    idx = np.random.choice(np.where(y_train_All_9 == state)[0], size=10, replace=False)\n",
        "    initial_idx = np.concatenate((initial_idx, idx))\n",
        "    state = False\n",
        "\n",
        "\n",
        "X_init = X_train_All[initial_idx]\n",
        "y_init_9 = y_train_All_9[initial_idx]\n",
        "\n",
        "\n",
        "print(f\"Initial training data points: {X_init.shape[0]}\")\n",
        "print(f\"Data distribution for each class: {np.bincount(y_init_9)}\")"
      ]
    },
    {
      "cell_type": "code",
      "execution_count": 10,
      "metadata": {
        "colab": {
          "base_uri": "https://localhost:8080/"
        },
        "id": "jIxfOH_ewFhe",
        "outputId": "c48faa89-c531-4d60-db36-d79ffd7deeab"
      },
      "outputs": [
        {
          "output_type": "stream",
          "name": "stdout",
          "text": [
            "Data type: <class 'numpy.ndarray'>\n"
          ]
        }
      ],
      "source": [
        "X_init = tensor_to_np(X_init)\n",
        "y_init = tensor_to_np(y_init_9).astype(int)\n",
        "X_val = tensor_to_np(X_val)\n",
        "y_val = tensor_to_np(y_val_9).astype(int)\n",
        "X_pool = tensor_to_np(X_pool)\n",
        "y_pool = tensor_to_np(y_pool_9).astype(int)\n",
        "X_test = tensor_to_np(X_test)\n",
        "y_test = tensor_to_np(y_test_9).astype(int)\n",
        "\n",
        "\n",
        "print(f\"Data type: {type(X_test)}\")"
      ]
    },
    {
      "cell_type": "code",
      "execution_count": 11,
      "metadata": {
        "colab": {
          "base_uri": "https://localhost:8080/",
          "height": 447
        },
        "id": "O7rNwM4v5HRA",
        "outputId": "a877c7e3-87d6-49b2-9431-b1a401760b03"
      },
      "outputs": [
        {
          "output_type": "display_data",
          "data": {
            "text/plain": [
              "<Figure size 640x480 with 1 Axes>"
            ],
            "image/png": "[encoded data removed]"
          },
          "metadata": {}
        },
        {
          "output_type": "stream",
          "name": "stdout",
          "text": [
            "This digit is equal to 9: 1\n"
          ]
        }
      ],
      "source": [
        "random_idx = np.random.randint(0, 20)\n",
        "random_digit = X_init[random_idx]\n",
        "random_digit_img = random_digit.reshape(28, 28)\n",
        "\n",
        "plt.imshow(random_digit_img, cmap=matplotlib.cm.binary, interpolation=\"nearest\")\n",
        "plt.axis(\"on\")\n",
        "plt.show()\n",
        "\n",
        "print(f\"This digit is equal to 9: {y_init[random_idx]}\")  # If True, return 1, else 0"
      ]
    },
    {
      "cell_type": "markdown",
      "metadata": {
        "id": "6s-FQY4Mrgje"
      },
      "source": [
        "## 2.0 Acquisition Functions\n",
        "* Random (Uniform): baseline\n",
        "* Max Entropy\n",
        "* BALD\n",
        "* Var Ratios\n",
        "* Informative Cluster"
      ]
    },
    {
      "cell_type": "code",
      "source": [
        "from sklearn.cluster import MiniBatchKMeans"
      ],
      "metadata": {
        "id": "0QfGkQd-nxxs"
      },
      "execution_count": 12,
      "outputs": []
    },
    {
      "cell_type": "code",
      "execution_count": 13,
      "metadata": {
        "id": "nOOwCgMYtFu4"
      },
      "outputs": [],
      "source": [
        "def predictions_from_pool(\n",
        "    model, X_pool: np.ndarray, T: int = 100, training: bool = True\n",
        "):\n",
        "    \"\"\"Run random_subset prediction on model and return the output\n",
        "    Attributes:\n",
        "        X_pool: Pool set to select uncertainty,\n",
        "        T: Number of MC dropout iterations aka training iterations,\n",
        "        training: If False, run test without MC dropout. (default=True)\n",
        "    \"\"\"\n",
        "    random_subset = np.random.choice(range(len(X_pool)), size=500, replace=False)\n",
        "    with torch.no_grad():\n",
        "        outputs = np.stack(\n",
        "            [\n",
        "                torch.softmax(\n",
        "                    model.estimator.forward(X_pool[random_subset], training=training),\n",
        "                    dim=-1,\n",
        "                )\n",
        "                .cpu()\n",
        "                .numpy()\n",
        "                for _ in range(T)\n",
        "            ]\n",
        "        )\n",
        "    return outputs, random_subset\n",
        "\n",
        "\n",
        "def uniform(\n",
        "    model, X_pool: np.ndarray, n_query: int = 10, T: int = 100, training: bool = True\n",
        "):\n",
        "    \"\"\"Baseline acquisition a(x) = unif() with unif() a function\n",
        "    returning a draw from a uniform distribution over the interval [0,1].\n",
        "    Using this acquisition function is equivalent to choosing a point\n",
        "    uniformly at random from the pool.\n",
        "    Attributes:\n",
        "        X_pool: Pool set to select uncertainty,\n",
        "        n_query: Number of points that randomly select from pool set,\n",
        "        training: If False, run test without MC dropout. (default=True)\n",
        "    \"\"\"\n",
        "    query_idx = np.random.choice(range(len(X_pool)), size=n_query, replace=False)\n",
        "    return query_idx, X_pool[query_idx]\n",
        "\n",
        "\n",
        "def shannon_entropy_function(\n",
        "    model, X_pool: np.ndarray, T: int = 100, E_H: bool = False, training: bool = True\n",
        "):\n",
        "    \"\"\"H[y|x,D_train] := - sum_{c} p(y=c|x,D_train)log p(y=c|x,D_train)\n",
        "    Attributes:\n",
        "        model: Model that is ready to measure uncertainty after training,\n",
        "        X_pool: Pool set to select uncertainty,\n",
        "        T: Number of MC dropout iterations aka training iterations,\n",
        "        E_H: If True, compute H and EH for BALD (default: False),\n",
        "        training: If False, run test without MC dropout. (default=True)\n",
        "    \"\"\"\n",
        "    outputs, random_subset = predictions_from_pool(model, X_pool, T, training=training)\n",
        "    pc = outputs.mean(axis=0)\n",
        "    H = (-pc * np.log(pc + 1e-10)).sum(\n",
        "        axis=-1\n",
        "    )  # To avoid division with zero, add 1e-10\n",
        "    if E_H:\n",
        "        E = -np.mean(np.sum(outputs * np.log(outputs + 1e-10), axis=-1), axis=0)\n",
        "        return H, E, random_subset\n",
        "    return H, random_subset\n",
        "\n",
        "\n",
        "def max_entropy(\n",
        "    model, X_pool: np.ndarray, n_query: int = 10, T: int = 100, training: bool = True\n",
        "):\n",
        "    \"\"\"Choose pool points that maximise the predictive entropy.\n",
        "    Using Shannon entropy function.\n",
        "    Attributes:\n",
        "        model: Model that is ready to measure uncertainty after training,\n",
        "        X_pool: Pool set to select uncertainty,\n",
        "        n_query: Number of points that maximise max_entropy a(x) from pool set,\n",
        "        T: Number of MC dropout iterations aka training iterations,\n",
        "        training: If False, run test without MC dropout. (default=True)\n",
        "    \"\"\"\n",
        "    acquisition, random_subset = shannon_entropy_function(\n",
        "        model, X_pool, T, training=training\n",
        "    )\n",
        "    idx = (-acquisition).argsort()[:n_query]\n",
        "    query_idx = random_subset[idx]\n",
        "    return query_idx, X_pool[query_idx]\n",
        "\n",
        "\n",
        "def bald(\n",
        "    model, X_pool: np.ndarray, n_query: int = 10, T: int = 100, training: bool = True\n",
        "):\n",
        "    \"\"\"Choose pool points that are expected to maximise the information\n",
        "    gained about the model parameters, i.e. maximise the mutal information\n",
        "    between predictions and model posterior. Given\n",
        "    I[y,w|x,D_train] = H[y|x,D_train] - E_{p(w|D_train)}[H[y|x,w]]\n",
        "    with w the model parameters (H[y|x,w] is the entropy of y given w).\n",
        "    Points that maximise this acquisition function are points on which the\n",
        "    model is uncertain on average but there exist model parameters that produce\n",
        "    disagreeing predictions with high certainty. This is equivalent to points\n",
        "    with high variance in th einput to the softmax layer\n",
        "    Attributes:\n",
        "        model: Model that is ready to measure uncertainty after training,\n",
        "        X_pool: Pool set to select uncertainty,\n",
        "        n_query: Number of points that maximise bald a(x) from pool set,\n",
        "        T: Number of MC dropout iterations aka training iterations,\n",
        "        training: If False, run test without MC dropout. (default=True)\n",
        "    \"\"\"\n",
        "    H, E_H, random_subset = shannon_entropy_function(\n",
        "        model, X_pool, T, E_H=True, training=training\n",
        "    )\n",
        "    acquisition = H - E_H\n",
        "    idx = (-acquisition).argsort()[:n_query]\n",
        "    query_idx = random_subset[idx]\n",
        "    return query_idx, X_pool[query_idx]\n",
        "\n",
        "\n",
        "def var_ratios(\n",
        "    model, X_pool: np.ndarray, n_query: int = 10, T: int = 100, training: bool = True\n",
        "):\n",
        "    \"\"\"Like Max Entropy but Variational Ratios measures lack of confidence.\n",
        "    Given: variational_ratio[x] := 1 - max_{y} p(y|x,D_{train})\n",
        "    Attributes:\n",
        "        model: Model that is ready to measure uncertainty after training,\n",
        "        X_pool: Pool set to select uncertainty,\n",
        "        n_query: Number of points that maximise var_ratios a(x) from pool set,\n",
        "        T: Number of MC dropout iterations aka training iterations,\n",
        "        training: If False, run test without MC dropout. (default=True)\n",
        "    \"\"\"\n",
        "    outputs, random_subset = predictions_from_pool(model, X_pool, T, training)\n",
        "    preds = np.argmax(outputs, axis=2)\n",
        "    _, count = stats.mode(preds, axis=0)\n",
        "    acquisition = (1 - count / preds.shape[1]).reshape((-1,))\n",
        "    idx = (-acquisition).argsort()[:n_query]\n",
        "    query_idx = random_subset[idx]\n",
        "    return query_idx, X_pool[query_idx]\n",
        "\n",
        "\n",
        "def informative_cluster_diverse_sampling(model, X_pool, n_query=10, T=100, training=True, n_clusters=10):\n",
        "    def calculate_min_margin(distances):\n",
        "        if len(distances.shape) < 2:\n",
        "            min_margin = np.abs(distances)\n",
        "        else:\n",
        "            sort_distances = np.sort(distances, 1)[:, -2:]\n",
        "            min_margin = sort_distances[:, 1] - sort_distances[:, 0]\n",
        "        return min_margin\n",
        "\n",
        "    try:\n",
        "        distances = model.decision_function(X_pool)\n",
        "    except:\n",
        "        distances = model.predict_proba(X_pool)\n",
        "\n",
        "    min_margin = calculate_min_margin(distances)\n",
        "    rank_ind = np.argsort(min_margin)\n",
        "\n",
        "    # Cluster the data\n",
        "    cluster_model = MiniBatchKMeans(n_clusters=n_clusters, n_init=3)\n",
        "    cluster_model.fit(X_pool.reshape((X_pool.shape[0], -1)))\n",
        "    cluster_labels = cluster_model.labels_\n",
        "    unique, counts = np.unique(cluster_labels, return_counts=True)\n",
        "    cluster_prob = counts / sum(counts)\n",
        "\n",
        "    new_batch_cluster_counts = [0] * n_clusters\n",
        "    query_idx = []\n",
        "\n",
        "    for i in rank_ind:\n",
        "        if len(query_idx) == n_query:\n",
        "            break\n",
        "        label = cluster_labels[i]\n",
        "        if new_batch_cluster_counts[label] / n_query < cluster_prob[label]:\n",
        "            query_idx.append(i)\n",
        "            new_batch_cluster_counts[label] += 1\n",
        "\n",
        "    n_slot_remaining = n_query - len(query_idx)\n",
        "    batch_filler = list(set(rank_ind) - set(query_idx))\n",
        "    query_idx.extend(batch_filler[:n_slot_remaining])\n",
        "\n",
        "    return query_idx, X_pool[query_idx]"
      ]
    },
    {
      "cell_type": "markdown",
      "metadata": {
        "id": "eJlLlXgErSsB"
      },
      "source": [
        "## 2.1 Define CNN architecture"
      ]
    },
    {
      "cell_type": "code",
      "execution_count": 14,
      "metadata": {
        "id": "56w70llWrQLw"
      },
      "outputs": [],
      "source": [
        "class ConvNN(nn.Module):\n",
        "    def __init__(\n",
        "        self,\n",
        "        num_filters: int = 32,\n",
        "        kernel_size: int = 4,\n",
        "        dense_layer: int = 128,\n",
        "        img_rows: int = 28,\n",
        "        img_cols: int = 28,\n",
        "        maxpool: int = 2,\n",
        "    ):\n",
        "        \"\"\"\n",
        "        Basic Architecture of CNN\n",
        "        Attributes:\n",
        "            num_filters: Number of filters, out channel for 1st and 2nd conv layers,\n",
        "            kernel_size: Kernel size of convolution,\n",
        "            dense_layer: Dense layer units,\n",
        "            img_rows: Height of input image,\n",
        "            img_cols: Width of input image,\n",
        "            maxpool: Max pooling size\n",
        "        \"\"\"\n",
        "        super(ConvNN, self).__init__()\n",
        "        self.conv1 = nn.Conv2d(1, num_filters, kernel_size, 1)\n",
        "        self.conv2 = nn.Conv2d(num_filters, num_filters, kernel_size, 1)\n",
        "        self.dropout1 = nn.Dropout(0.25)\n",
        "        self.dropout2 = nn.Dropout(0.5)\n",
        "        self.fc1 = nn.Linear(\n",
        "            num_filters\n",
        "            * ((img_rows - 2 * kernel_size + 2) // 2)\n",
        "            * ((img_cols - 2 * kernel_size + 2) // 2),\n",
        "            dense_layer,\n",
        "        )\n",
        "        self.fc2 = nn.Linear(dense_layer, 10)\n",
        "\n",
        "    def forward(self, x: torch.Tensor) -> torch.Tensor:\n",
        "        x = self.conv1(x)\n",
        "        x = F.relu(x)\n",
        "        x = self.conv2(x)\n",
        "        x = F.relu(x)\n",
        "        x = F.max_pool2d(x, 2)\n",
        "        x = self.dropout1(x)\n",
        "        x = torch.flatten(x, 1)\n",
        "        x = self.fc1(x)\n",
        "        x = F.relu(x)\n",
        "        x = self.dropout2(x)\n",
        "        out = self.fc2(x)\n",
        "        return out"
      ]
    },
    {
      "cell_type": "markdown",
      "metadata": {
        "id": "JK6j5xTWtlQ6"
      },
      "source": [
        "## 2.2 Define Active Learning Procedure"
      ]
    },
    {
      "cell_type": "code",
      "execution_count": 15,
      "metadata": {
        "id": "qYcwmJmLtk71"
      },
      "outputs": [],
      "source": [
        "def active_learning_procedure(\n",
        "    query_strategy,\n",
        "    X_val: np.ndarray,\n",
        "    y_val: np.ndarray,\n",
        "    X_test: np.ndarray,\n",
        "    y_test: np.ndarray,\n",
        "    X_pool: np.ndarray,\n",
        "    y_pool: np.ndarray,\n",
        "    X_init: np.ndarray,\n",
        "    y_init: np.ndarray,\n",
        "    estimator,\n",
        "    T: int = 100,\n",
        "    n_query: int = 10,\n",
        "    training: bool = True,\n",
        "):\n",
        "    \"\"\"Active Learning Procedure\n",
        "    Attributes:\n",
        "        query_strategy: Choose between Uniform(baseline), max_entropy, bald,\n",
        "        X_val, y_val: Validation dataset,\n",
        "        X_test, y_test: Test dataset,\n",
        "        X_pool, y_pool: Query pool set,\n",
        "        X_init, y_init: Initial training set data points,\n",
        "        estimator: Neural Network architecture, e.g. CNN,\n",
        "        T: Number of MC dropout iterations (repeat acqusition process T times),\n",
        "        n_query: Number of points to query from X_pool,\n",
        "        training: If False, run test without MC Dropout (default: True)\n",
        "    \"\"\"\n",
        "    learner = ActiveLearner(\n",
        "        estimator=estimator,\n",
        "        X_training=X_init,\n",
        "        y_training=y_init,\n",
        "        query_strategy=query_strategy,\n",
        "    )\n",
        "    perf_hist = [learner.score(X_test, y_test)]\n",
        "    for index in range(T):\n",
        "        query_idx, query_instance = learner.query(\n",
        "            X_pool, n_query=n_query, T=T, training=training\n",
        "        )\n",
        "        learner.teach(X_pool[query_idx], y_pool[query_idx])\n",
        "        X_pool = np.delete(X_pool, query_idx, axis=0)\n",
        "        y_pool = np.delete(y_pool, query_idx, axis=0)\n",
        "        model_accuracy_val = learner.score(X_val, y_val)\n",
        "        if (index + 1) % 5 == 0:\n",
        "            print(f\"Val Accuracy after query {index+1}: {model_accuracy_val:0.4f}\")\n",
        "        perf_hist.append(model_accuracy_val)\n",
        "    model_accuracy_test = learner.score(X_test, y_test)\n",
        "    print(f\"********** Test Accuracy per experiment: {model_accuracy_test} **********\")\n",
        "    return perf_hist, model_accuracy_test"
      ]
    },
    {
      "cell_type": "markdown",
      "metadata": {
        "id": "4D60AF1Ns_lq"
      },
      "source": [
        "## 3.0 Define Hyperparameters"
      ]
    },
    {
      "cell_type": "code",
      "execution_count": 20,
      "metadata": {
        "colab": {
          "base_uri": "https://localhost:8080/"
        },
        "id": "RNxBdBcCrhji",
        "outputId": "7265db79-d006-4bcf-cf75-c296af13fba3"
      },
      "outputs": [
        {
          "output_type": "stream",
          "name": "stdout",
          "text": [
            "Using device: cuda:0\n"
          ]
        }
      ],
      "source": [
        "ACQ_FUNCS = [informative_cluster_diverse_sampling,uniform, max_entropy, bald, var_ratios]\n",
        "BATCH_SIZE = 128\n",
        "DEVICE = torch.device(\"cuda:0\" if torch.cuda.is_available() else \"cpu\")\n",
        "DROPOUT_ITER = 100\n",
        "EPOCHS = 50\n",
        "EXPERIMENTS = 1\n",
        "N_QUERY = 10\n",
        "LR = 1e-3\n",
        "RESULT_DIR = \"result_npy\"\n",
        "SEED = 369\n",
        "\n",
        "\n",
        "if not os.path.exists(RESULT_DIR):\n",
        "    os.mkdir(RESULT_DIR)\n",
        "\n",
        "\n",
        "print(f\"Using device: {DEVICE}\")"
      ]
    },
    {
      "cell_type": "markdown",
      "metadata": {
        "id": "gVwhZQA8CXSX"
      },
      "source": [
        "## 3.1 Functions"
      ]
    },
    {
      "cell_type": "code",
      "execution_count": 21,
      "metadata": {
        "id": "zggFu_63rd2n"
      },
      "outputs": [],
      "source": [
        "def load_CNN_model():\n",
        "    \"\"\"Load new model each time for different acqusition function\n",
        "    each experiments\"\"\"\n",
        "    model = ConvNN().to(DEVICE)\n",
        "    cnn_classifier = NeuralNetClassifier(\n",
        "        module=model,\n",
        "        lr=LR,\n",
        "        batch_size=BATCH_SIZE,\n",
        "        max_epochs=EPOCHS,\n",
        "        criterion=nn.CrossEntropyLoss,\n",
        "        optimizer=torch.optim.Adam,\n",
        "        train_split=None,\n",
        "        verbose=0,\n",
        "        device=DEVICE,\n",
        "    )\n",
        "    return cnn_classifier\n",
        "\n",
        "\n",
        "def save_as_npy(data: np.ndarray, name: str):\n",
        "    \"\"\"Save result as npy file\n",
        "\n",
        "    Attributes:\n",
        "        data: np array to be saved as npy file,\n",
        "        folder: result folder name,\n",
        "        name: npy filename\n",
        "    \"\"\"\n",
        "    file_name = os.path.join(RESULT_DIR, name + \".npy\")\n",
        "    np.save(file_name, data)\n",
        "    print(f\"Saved: {file_name}\")\n",
        "\n",
        "\n",
        "def plot_results(data: dict):\n",
        "    \"\"\"Plot results histogram using matplotlib\"\"\"\n",
        "    sns.set()\n",
        "    plt.figure(figsize=(7, 5))\n",
        "    for key in data.keys():\n",
        "        data[key] = gaussian_filter1d(data[key], sigma=0.9)  # for smoother graph\n",
        "        plt.plot(data[key], label=key)\n",
        "    plt.ylim([0.94, 1.00])\n",
        "    plt.legend()\n",
        "    plt.show()\n",
        "\n",
        "\n",
        "def print_elapsed_time(start_time: float, exp: int, acq_func: str):\n",
        "    \"\"\"Print elapsed time for each experiment of acquiring\n",
        "    Attributes:\n",
        "        start_time: Starting time (in time.time()),\n",
        "        exp: Experiment iteration\n",
        "        acq_func: Name of acquisition function\n",
        "    \"\"\"\n",
        "    elp = time.time() - start_time\n",
        "    print(\n",
        "        f\"********** Experiment {exp} ({acq_func}): {int(elp//3600)}:\\\n",
        "        {int(elp%3600//60)}:{int(elp%60)} **********\"\n",
        "    )"
      ]
    },
    {
      "cell_type": "markdown",
      "metadata": {
        "id": "5qX90gRwDP1-"
      },
      "source": [
        "## 4.0 Start Active Learning with Acquisition Functions\n",
        "- random\n",
        "- max_entropy\n",
        "- bald\n",
        "- var ratios"
      ]
    },
    {
      "cell_type": "code",
      "execution_count": 22,
      "metadata": {
        "colab": {
          "base_uri": "https://localhost:8080/"
        },
        "id": "UKNT8FFQEbwK",
        "outputId": "a51c55fd-0343-497b-85fd-6566dcca06e0"
      },
      "outputs": [
        {
          "output_type": "stream",
          "name": "stdout",
          "text": [
            "\n",
            "---------- Start informative_cluster_diverse_sampling training! ----------\n",
            "********** Experiment Iterations: 1/1 **********\n",
            "Val Accuracy after query 5: 0.9633\n",
            "Val Accuracy after query 10: 0.9867\n",
            "Val Accuracy after query 15: 0.9900\n",
            "Val Accuracy after query 20: 0.9933\n",
            "Val Accuracy after query 25: 0.9967\n",
            "Val Accuracy after query 30: 0.9900\n",
            "Val Accuracy after query 35: 0.9867\n",
            "Val Accuracy after query 40: 0.9967\n",
            "Val Accuracy after query 45: 0.9967\n",
            "Val Accuracy after query 50: 0.9933\n",
            "Val Accuracy after query 55: 0.9967\n",
            "Val Accuracy after query 60: 1.0000\n",
            "Val Accuracy after query 65: 1.0000\n",
            "Val Accuracy after query 70: 1.0000\n",
            "Val Accuracy after query 75: 1.0000\n",
            "Val Accuracy after query 80: 0.9967\n",
            "Val Accuracy after query 85: 1.0000\n",
            "Val Accuracy after query 90: 1.0000\n",
            "Val Accuracy after query 95: 1.0000\n",
            "Val Accuracy after query 100: 1.0000\n",
            "********** Test Accuracy per experiment: 0.996 **********\n",
            "********** Experiment 1 (informative_cluster_diverse_sampling): 0:        5:43 **********\n",
            "Average Test score for informative_cluster_diverse_sampling: 0.996\n",
            "Saved: result_npy/informative_cluster_diverse_sampling.npy\n",
            "\n",
            "---------- Start uniform training! ----------\n",
            "********** Experiment Iterations: 1/1 **********\n",
            "Val Accuracy after query 5: 0.9433\n",
            "Val Accuracy after query 10: 0.9700\n",
            "Val Accuracy after query 15: 0.9767\n",
            "Val Accuracy after query 20: 0.9667\n",
            "Val Accuracy after query 25: 0.9667\n",
            "Val Accuracy after query 30: 0.9667\n",
            "Val Accuracy after query 35: 0.9733\n",
            "Val Accuracy after query 40: 0.9700\n",
            "Val Accuracy after query 45: 0.9700\n",
            "Val Accuracy after query 50: 0.9700\n",
            "Val Accuracy after query 55: 0.9633\n",
            "Val Accuracy after query 60: 0.9733\n",
            "Val Accuracy after query 65: 0.9733\n",
            "Val Accuracy after query 70: 0.9800\n",
            "Val Accuracy after query 75: 0.9733\n",
            "Val Accuracy after query 80: 0.9767\n",
            "Val Accuracy after query 85: 0.9733\n",
            "Val Accuracy after query 90: 0.9700\n",
            "Val Accuracy after query 95: 0.9767\n",
            "Val Accuracy after query 100: 0.9800\n",
            "********** Test Accuracy per experiment: 0.9835 **********\n",
            "********** Experiment 1 (uniform): 0:        2:30 **********\n",
            "Average Test score for uniform: 0.9835\n",
            "Saved: result_npy/uniform.npy\n",
            "\n",
            "---------- Start max_entropy training! ----------\n",
            "********** Experiment Iterations: 1/1 **********\n",
            "Val Accuracy after query 5: 0.9667\n",
            "Val Accuracy after query 10: 0.9867\n",
            "Val Accuracy after query 15: 0.9867\n",
            "Val Accuracy after query 20: 0.9900\n",
            "Val Accuracy after query 25: 0.9933\n",
            "Val Accuracy after query 30: 0.9867\n",
            "Val Accuracy after query 35: 0.9933\n",
            "Val Accuracy after query 40: 1.0000\n",
            "Val Accuracy after query 45: 0.9967\n",
            "Val Accuracy after query 50: 0.9900\n",
            "Val Accuracy after query 55: 0.9900\n",
            "Val Accuracy after query 60: 0.9967\n",
            "Val Accuracy after query 65: 0.9967\n",
            "Val Accuracy after query 70: 1.0000\n",
            "Val Accuracy after query 75: 0.9967\n",
            "Val Accuracy after query 80: 1.0000\n",
            "Val Accuracy after query 85: 1.0000\n",
            "Val Accuracy after query 90: 1.0000\n",
            "Val Accuracy after query 95: 0.9967\n",
            "Val Accuracy after query 100: 0.9967\n",
            "********** Test Accuracy per experiment: 0.9958 **********\n",
            "********** Experiment 1 (max_entropy): 0:        4:35 **********\n",
            "Average Test score for max_entropy: 0.9958\n",
            "Saved: result_npy/max_entropy.npy\n",
            "\n",
            "---------- Start bald training! ----------\n",
            "********** Experiment Iterations: 1/1 **********\n",
            "Val Accuracy after query 5: 0.9667\n",
            "Val Accuracy after query 10: 0.9800\n",
            "Val Accuracy after query 15: 0.9800\n",
            "Val Accuracy after query 20: 0.9867\n",
            "Val Accuracy after query 25: 0.9867\n",
            "Val Accuracy after query 30: 0.9833\n",
            "Val Accuracy after query 35: 0.9900\n",
            "Val Accuracy after query 40: 0.9833\n",
            "Val Accuracy after query 45: 0.9967\n",
            "Val Accuracy after query 50: 0.9967\n",
            "Val Accuracy after query 55: 0.9933\n",
            "Val Accuracy after query 60: 0.9933\n",
            "Val Accuracy after query 65: 0.9967\n",
            "Val Accuracy after query 70: 0.9967\n",
            "Val Accuracy after query 75: 0.9933\n",
            "Val Accuracy after query 80: 0.9967\n",
            "Val Accuracy after query 85: 0.9933\n",
            "Val Accuracy after query 90: 0.9967\n",
            "Val Accuracy after query 95: 1.0000\n",
            "Val Accuracy after query 100: 0.9933\n",
            "********** Test Accuracy per experiment: 0.9958 **********\n",
            "********** Experiment 1 (bald): 0:        4:32 **********\n",
            "Average Test score for bald: 0.9958\n",
            "Saved: result_npy/bald.npy\n",
            "\n",
            "---------- Start var_ratios training! ----------\n",
            "********** Experiment Iterations: 1/1 **********\n",
            "Val Accuracy after query 5: 0.9733\n",
            "Val Accuracy after query 10: 0.9800\n",
            "Val Accuracy after query 15: 0.9833\n",
            "Val Accuracy after query 20: 0.9867\n",
            "Val Accuracy after query 25: 0.9900\n",
            "Val Accuracy after query 30: 0.9900\n",
            "Val Accuracy after query 35: 0.9933\n",
            "Val Accuracy after query 40: 0.9967\n",
            "Val Accuracy after query 45: 0.9933\n",
            "Val Accuracy after query 50: 0.9933\n",
            "Val Accuracy after query 55: 0.9933\n",
            "Val Accuracy after query 60: 0.9967\n",
            "Val Accuracy after query 65: 0.9967\n",
            "Val Accuracy after query 70: 1.0000\n",
            "Val Accuracy after query 75: 0.9933\n",
            "Val Accuracy after query 80: 0.9933\n",
            "Val Accuracy after query 85: 0.9933\n",
            "Val Accuracy after query 90: 0.9933\n",
            "Val Accuracy after query 95: 0.9967\n",
            "Val Accuracy after query 100: 0.9933\n",
            "********** Test Accuracy per experiment: 0.9959 **********\n",
            "********** Experiment 1 (var_ratios): 0:        4:32 **********\n",
            "Average Test score for var_ratios: 0.9959\n",
            "Saved: result_npy/var_ratios.npy\n",
            "--------------- Done Training! ---------------\n"
          ]
        }
      ],
      "source": [
        "results = dict()\n",
        "\n",
        "\n",
        "for i, acq_func in enumerate(ACQ_FUNCS):\n",
        "    avg_hist = []\n",
        "    test_scores = []\n",
        "    acq_func_name = str(acq_func).split(\" \")[1]\n",
        "    print(f\"\\n---------- Start {acq_func_name} training! ----------\")\n",
        "    for e in range(EXPERIMENTS):\n",
        "        start_time = time.time()\n",
        "        estimator = load_CNN_model()\n",
        "        print(f\"********** Experiment Iterations: {e+1}/{EXPERIMENTS} **********\")\n",
        "        training_hist, test_score = active_learning_procedure(\n",
        "            query_strategy=acq_func,\n",
        "            X_val=X_val,\n",
        "            y_val=y_val,\n",
        "            X_test=X_test,\n",
        "            y_test=y_test,\n",
        "            X_pool=X_pool,\n",
        "            y_pool=y_pool,\n",
        "            X_init=X_init,\n",
        "            y_init=y_init,\n",
        "            estimator=estimator,\n",
        "            T=DROPOUT_ITER,\n",
        "            n_query=N_QUERY,\n",
        "        )\n",
        "        avg_hist.append(training_hist)\n",
        "        test_scores.append(test_score)\n",
        "        print_elapsed_time(start_time, e + 1, acq_func_name)\n",
        "    avg_hist = np.average(np.array(avg_hist), axis=0)\n",
        "    avg_test = sum(test_scores) / len(test_scores)\n",
        "    print(f\"Average Test score for {acq_func_name}: {avg_test}\")\n",
        "    results[acq_func_name] = avg_hist\n",
        "    save_as_npy(data=avg_hist, name=acq_func_name)\n",
        "\n",
        "\n",
        "print(\"--------------- Done Training! ---------------\")"
      ]
    },
    {
      "cell_type": "markdown",
      "metadata": {
        "id": "ICiCuHD0Ffu7"
      },
      "source": [
        "## 4.1 Plot Deep Bayesian Active Learning Results"
      ]
    },
    {
      "cell_type": "code",
      "execution_count": 23,
      "metadata": {
        "id": "cGZX8-H0FPzN",
        "colab": {
          "base_uri": "https://localhost:8080/",
          "height": 456
        },
        "outputId": "ac8cc17a-ed7d-40b1-9fee-9f1fe9aed54e"
      },
      "outputs": [
        {
          "output_type": "display_data",
          "data": {
            "text/plain": [
              "<Figure size 700x500 with 1 Axes>"
            ],
            "image/png": "[encoded data removed]"
          },
          "metadata": {}
        }
      ],
      "source": [
        "plot_results(data=results)"
      ]
    },
    {
      "cell_type": "markdown",
      "metadata": {
        "id": "fbIC-jFGFNze"
      },
      "source": [
        "## 5.0 MBR - Kernel Matrix (W)\n",
        "Use 20 initial datapoints."
      ]
    },
    {
      "cell_type": "code",
      "execution_count": 24,
      "metadata": {
        "id": "AWtIMq2XGMhE"
      },
      "outputs": [],
      "source": [
        "from sklearn.metrics.pairwise import rbf_kernel\n",
        "\n",
        "\n",
        "def kernel_matrix(X_datapoints):\n",
        "    X_datapoints = X_datapoints.reshape(X_datapoints.shape[0], -1)\n",
        "    W = rbf_kernel(X_datapoints, X_datapoints)\n",
        "    return W"
      ]
    },
    {
      "cell_type": "markdown",
      "metadata": {
        "id": "kURUcSACHRLt"
      },
      "source": [
        "## 5.1 MBR - Combinatorial Laplacian (Delta)"
      ]
    },
    {
      "cell_type": "code",
      "execution_count": 25,
      "metadata": {
        "id": "To1syK-QHGBJ"
      },
      "outputs": [],
      "source": [
        "def combinatorial_laplacian(W):\n",
        "    \"\"\"Compute the combinatorial laplacian given edge weight matrix W\"\"\"\n",
        "    # the degree matrix -- sum up edge weights for each node\n",
        "    D = np.diag(np.sum(W, axis=1))\n",
        "\n",
        "    # the combinatorial laplacian\n",
        "    Delta = D - W\n",
        "    return Delta\n",
        "\n",
        "\n",
        "def to_categorical(y, num_classes=2):\n",
        "    \"\"\"1-hot encodes a tensor\"\"\"\n",
        "    return np.eye(num_classes, dtype=\"uint8\")[y]"
      ]
    },
    {
      "cell_type": "markdown",
      "metadata": {
        "id": "eXw0T1yUIMZU"
      },
      "source": [
        "## 5.2 MBR - Harmonic Function"
      ]
    },
    {
      "cell_type": "code",
      "execution_count": 26,
      "metadata": {
        "id": "mD2FliUkoJEj"
      },
      "outputs": [],
      "source": [
        "def harmonic_function(X_train, y_train, Delta):\n",
        "    Delta_ll = Delta[0 : X_train.shape[0], 0 : X_train.shape[0]]\n",
        "    Delta_ul = Delta[X_train.shape[0] :, 0 : X_train.shape[0]]\n",
        "    Delta_lu = Delta[0 : X_train.shape[0], X_train.shape[0] :]\n",
        "    Delta_uu = Delta[X_train.shape[0] :, X_train.shape[0] :]\n",
        "\n",
        "    inv_Delta_uu = np.linalg.pinv(Delta_uu)\n",
        "    Original_f_L = y_train\n",
        "    Delta_mult = np.dot(inv_Delta_uu, Delta_ul)\n",
        "    Original_f_U = -np.dot(Delta_mult, Original_f_L)\n",
        "\n",
        "    # f_I is the entire harmonic function over all the data points (U + L)\n",
        "    Original_f_I = np.concatenate((Original_f_L, Original_f_U), axis=0)\n",
        "    return Original_f_I, Original_f_L"
      ]
    },
    {
      "cell_type": "markdown",
      "metadata": {
        "id": "NMwfHYyGpWa-"
      },
      "source": [
        "## 5.3 Compute Bayes Risk"
      ]
    },
    {
      "cell_type": "code",
      "execution_count": 27,
      "metadata": {
        "id": "afLxfwIkpZto"
      },
      "outputs": [],
      "source": [
        "def minimum_bayes_risk(\n",
        "    model, X_pool, y_pool, X_train, y_train, Delta, n_query, Original_f_I, Original_f_L\n",
        "):\n",
        "    \"\"\"Compute Bayes Risk for all pool points in acquisition iteration\"\"\"\n",
        "    pool_subset_idx = np.random.choice(range(len(X_pool)), size=1000, replace=False)\n",
        "    X_pool_points = X_pool[pool_subset_idx]\n",
        "    y_pool_points = y_pool[pool_subset_idx]\n",
        "    X_train_temp = np.concatenate((X_train, X_pool_points), axis=0)\n",
        "    y_train_temp = np.concatenate((y_train, y_pool_points), axis=0)\n",
        "    X_pool_temp = np.delete(X_pool, pool_subset_idx, axis=0)\n",
        "\n",
        "    f_I, f_l = harmonic_function(X_train_temp, y_train_temp, Delta)\n",
        "\n",
        "    # Compute new estimate Bayes Risk\n",
        "    R = np.array([0])\n",
        "    for m in range(f_I.shape[0]):\n",
        "        val_f_I = f_I[m]\n",
        "        other_val_f_I = 1 - val_f_I\n",
        "        min_val = np.amin(np.array([val_f_I, other_val_f_I]))\n",
        "        R = R + min_val\n",
        "    Estimated_Risk = R\n",
        "\n",
        "    # we need f_k values for each pool point in consideration\n",
        "    f_All_Pool = Original_f_I[Original_f_L.shape[0] :]\n",
        "    f_k = f_All_Pool[500]\n",
        "    Bayes_Risk = (1 - f_k) * Estimated_Risk + (f_k) * Estimated_Risk\n",
        "\n",
        "    query_idx = np.argsort(Bayes_Risk.flatten())[-n_query:]\n",
        "    return query_idx, X_pool[query_idx]"
      ]
    },
    {
      "cell_type": "markdown",
      "metadata": {
        "id": "9U94Gf1GTGEO"
      },
      "source": [
        "## 6.0 Define MBR Procedure"
      ]
    },
    {
      "cell_type": "code",
      "execution_count": 28,
      "metadata": {
        "id": "636z7BTRWr3P"
      },
      "outputs": [],
      "source": [
        "def MBR_procedure(\n",
        "    X_val: np.ndarray,\n",
        "    y_val: np.ndarray,\n",
        "    X_test: np.ndarray,\n",
        "    y_test: np.ndarray,\n",
        "    X_pool: np.ndarray,\n",
        "    y_pool: np.ndarray,\n",
        "    X_train: np.ndarray,\n",
        "    y_train: np.ndarray,\n",
        "    X_init: np.ndarray,\n",
        "    y_init: np.ndarray,\n",
        "    estimator,\n",
        "    T: int = 100,\n",
        "    n_query: int = 10,\n",
        "    query_strategy=minimum_bayes_risk,\n",
        "):\n",
        "    \"\"\"MBR Procedure\n",
        "    Attributes:\n",
        "        X_val, y_val: Validation dataset,\n",
        "        X_test, y_test: Test dataset,\n",
        "        X_pool, y_pool: Query pool set,\n",
        "        X_train, y_train: Training set,\n",
        "        X_init, y_init: Initial training set,\n",
        "        estimator: Neural Network architecture, e.g. CNN,\n",
        "        T: Number of iterations (repeat acqusition process T times),\n",
        "        n_query: Number of points to query from X_pool,\n",
        "        query_strategy: MBR to query points from pool\n",
        "    \"\"\"\n",
        "    learner = ActiveLearner(\n",
        "        estimator=estimator,\n",
        "        X_training=X_init,\n",
        "        y_training=y_init,\n",
        "        query_strategy=query_strategy,\n",
        "    )\n",
        "    perf_hist = [learner.score(X_test, y_test)]\n",
        "\n",
        "    X_train_pool = np.concatenate((X_train, X_pool), axis=0)\n",
        "    W = kernel_matrix(X_train_pool)\n",
        "    delta = combinatorial_laplacian(W)\n",
        "    print(f\"Delta shape: {delta.shape} (n*n)\")\n",
        "\n",
        "    original_f_I, original_f_L = harmonic_function(X_train, y_train, delta)\n",
        "\n",
        "    for index in range(T):\n",
        "        query_idx, query_instance = learner.query(\n",
        "            X_pool=X_pool,\n",
        "            y_pool=y_pool,\n",
        "            X_train=X_train,\n",
        "            y_train=y_train,\n",
        "            Delta=delta,\n",
        "            Original_f_I=original_f_I,\n",
        "            Original_f_L=original_f_L,\n",
        "            n_query=10,\n",
        "        )\n",
        "        learner.teach(X_pool[query_idx], y_pool[query_idx])\n",
        "        X_train = np.concatenate((X_train, X_pool[query_idx]), axis=0)\n",
        "        y_train = np.concatenate((y_train, y_pool[query_idx]), axis=0)\n",
        "        X_pool = np.delete(X_pool, query_idx, axis=0)\n",
        "        y_pool = np.delete(y_pool, query_idx, axis=0)\n",
        "\n",
        "        model_accuracy_val = learner.score(X_val, y_val)\n",
        "        if (index + 1) % 5 == 0:\n",
        "            print(f\"Val Accuracy after iteration {index+1}: {model_accuracy_val:0.4f}\")\n",
        "        perf_hist.append(model_accuracy_val)\n",
        "    model_accuracy_test = learner.score(X_test, y_test)\n",
        "    print(f\"********** Test Accuracy per experiment: {model_accuracy_test} **********\")\n",
        "    return perf_hist, model_accuracy_test"
      ]
    },
    {
      "cell_type": "markdown",
      "metadata": {
        "id": "cTV5x8lnRDiw"
      },
      "source": [
        "## 6.1 Choose 3 different pool dataset"
      ]
    },
    {
      "cell_type": "code",
      "execution_count": 29,
      "metadata": {
        "id": "I3cD9tSpEN9l",
        "colab": {
          "base_uri": "https://localhost:8080/"
        },
        "outputId": "309a7c65-be54-4551-b305-be58f8a9dc94"
      },
      "outputs": [
        {
          "output_type": "stream",
          "name": "stdout",
          "text": [
            "3\n",
            "(2000, 1, 28, 28)\n"
          ]
        }
      ],
      "source": [
        "X_pool_1 = X_pool[:2000]\n",
        "y_pool_1 = y_pool[:2000]\n",
        "X_pool_2 = X_pool[6000:8000]\n",
        "y_pool_2 = y_pool[6000:8000]\n",
        "X_pool_3 = X_pool[10000:12000]\n",
        "y_pool_3 = y_pool[10000:12000]\n",
        "\n",
        "\n",
        "X_pool_list = [X_pool_1, X_pool_2, X_pool_3]\n",
        "y_pool_list = [y_pool_1, y_pool_2, y_pool_3]\n",
        "print(len(X_pool_list))\n",
        "print(X_pool_list[2].shape)"
      ]
    },
    {
      "cell_type": "markdown",
      "metadata": {
        "id": "NA-AIiJBRKR9"
      },
      "source": [
        "## 7.0 Start MBR Training"
      ]
    },
    {
      "cell_type": "code",
      "execution_count": 30,
      "metadata": {
        "id": "9Z_9nbIt0xCq",
        "colab": {
          "base_uri": "https://localhost:8080/"
        },
        "outputId": "e4c71e5a-e235-406e-f862-6d3e4e2da3e3"
      },
      "outputs": [
        {
          "output_type": "stream",
          "name": "stdout",
          "text": [
            "Using X_pool size of: (2000, 1, 28, 28), 3 sets.\n",
            "Done load model!\n",
            "Delta shape: (2020, 2020) (n*n)\n",
            "Val Accuracy after iteration 5: 0.6533\n",
            "Val Accuracy after iteration 10: 0.8600\n",
            "Val Accuracy after iteration 15: 0.9200\n",
            "Val Accuracy after iteration 20: 0.9033\n",
            "Val Accuracy after iteration 25: 0.9133\n",
            "Val Accuracy after iteration 30: 0.9033\n",
            "Val Accuracy after iteration 35: 0.9200\n",
            "Val Accuracy after iteration 40: 0.9067\n",
            "Val Accuracy after iteration 45: 0.9033\n",
            "Val Accuracy after iteration 50: 0.9033\n",
            "Val Accuracy after iteration 55: 0.9033\n",
            "Val Accuracy after iteration 60: 0.9433\n",
            "Val Accuracy after iteration 65: 0.9267\n",
            "Val Accuracy after iteration 70: 0.9200\n",
            "Val Accuracy after iteration 75: 0.9000\n",
            "Val Accuracy after iteration 80: 0.8933\n",
            "Val Accuracy after iteration 85: 0.9400\n",
            "Val Accuracy after iteration 90: 0.9367\n",
            "Val Accuracy after iteration 95: 0.9467\n",
            "Val Accuracy after iteration 100: 0.9533\n",
            "********** Test Accuracy per experiment: 0.9514 **********\n",
            "********** Experiment 1 (MBR): 0:        2:7 **********\n",
            "Done load model!\n",
            "Delta shape: (2020, 2020) (n*n)\n",
            "Val Accuracy after iteration 5: 0.7867\n",
            "Val Accuracy after iteration 10: 0.8500\n",
            "Val Accuracy after iteration 15: 0.8267\n",
            "Val Accuracy after iteration 20: 0.8467\n",
            "Val Accuracy after iteration 25: 0.8700\n",
            "Val Accuracy after iteration 30: 0.8400\n",
            "Val Accuracy after iteration 35: 0.8967\n",
            "Val Accuracy after iteration 40: 0.8967\n",
            "Val Accuracy after iteration 45: 0.9033\n",
            "Val Accuracy after iteration 50: 0.9100\n",
            "Val Accuracy after iteration 55: 0.9233\n",
            "Val Accuracy after iteration 60: 0.9100\n",
            "Val Accuracy after iteration 65: 0.9100\n",
            "Val Accuracy after iteration 70: 0.9267\n",
            "Val Accuracy after iteration 75: 0.9300\n",
            "Val Accuracy after iteration 80: 0.9433\n",
            "Val Accuracy after iteration 85: 0.9433\n",
            "Val Accuracy after iteration 90: 0.9533\n",
            "Val Accuracy after iteration 95: 0.9500\n",
            "Val Accuracy after iteration 100: 0.9533\n",
            "********** Test Accuracy per experiment: 0.9513 **********\n",
            "********** Experiment 2 (MBR): 0:        1:59 **********\n",
            "Done load model!\n",
            "Delta shape: (2020, 2020) (n*n)\n",
            "Val Accuracy after iteration 5: 0.7600\n",
            "Val Accuracy after iteration 10: 0.8833\n",
            "Val Accuracy after iteration 15: 0.8567\n",
            "Val Accuracy after iteration 20: 0.8533\n",
            "Val Accuracy after iteration 25: 0.8733\n",
            "Val Accuracy after iteration 30: 0.8933\n",
            "Val Accuracy after iteration 35: 0.9367\n",
            "Val Accuracy after iteration 40: 0.9500\n",
            "Val Accuracy after iteration 45: 0.9567\n",
            "Val Accuracy after iteration 50: 0.9433\n",
            "Val Accuracy after iteration 55: 0.9567\n",
            "Val Accuracy after iteration 60: 0.9500\n",
            "Val Accuracy after iteration 65: 0.9600\n",
            "Val Accuracy after iteration 70: 0.9567\n",
            "Val Accuracy after iteration 75: 0.9533\n",
            "Val Accuracy after iteration 80: 0.9500\n",
            "Val Accuracy after iteration 85: 0.9567\n",
            "Val Accuracy after iteration 90: 0.9500\n",
            "Val Accuracy after iteration 95: 0.9600\n",
            "Val Accuracy after iteration 100: 0.9500\n",
            "********** Test Accuracy per experiment: 0.9548 **********\n",
            "********** Experiment 3 (MBR): 0:        2:2 **********\n"
          ]
        }
      ],
      "source": [
        "print(f\"Using X_pool size of: {X_pool_1.shape}, {len(X_pool_list)} sets.\")\n",
        "avg_hist = []\n",
        "\n",
        "for e in range(3):\n",
        "    estimator = load_CNN_model()\n",
        "    print(f\"Done load model!\")\n",
        "    X_pool = X_pool_list[e]\n",
        "    y_pool = y_pool_list[e]\n",
        "    start_time = time.time()\n",
        "    hist, acc = MBR_procedure(\n",
        "        X_val=X_val,\n",
        "        y_val=y_val,\n",
        "        X_test=X_test,\n",
        "        y_test=y_test,\n",
        "        X_pool=X_pool,\n",
        "        y_pool=y_pool,\n",
        "        X_train=X_init,\n",
        "        y_train=y_init,\n",
        "        X_init=X_init,\n",
        "        y_init=y_init,\n",
        "        estimator=estimator,\n",
        "    )\n",
        "    print_elapsed_time(start_time=start_time, exp=e + 1, acq_func=\"MBR\")\n",
        "    avg_hist.append(hist)\n",
        "\n",
        "result = np.mean(np.array(avg_hist), axis=0)"
      ]
    },
    {
      "cell_type": "code",
      "execution_count": 31,
      "metadata": {
        "id": "eRBUf1l99rfe"
      },
      "outputs": [],
      "source": [
        "uniform = np.load(\"result_npy/uniform.npy\")\n",
        "bald = np.load(\"result_npy/bald.npy\")\n",
        "max_entropy = np.load(\"result_npy/max_entropy.npy\")\n",
        "var_ratios = np.load(\"result_npy/var_ratios.npy\")\n",
        "informative_cluster_diverse_sampling = np.load(\"result_npy/informative_cluster_diverse_sampling.npy\")"
      ]
    },
    {
      "cell_type": "code",
      "execution_count": 33,
      "metadata": {
        "id": "pXTjMwyl9zuG",
        "colab": {
          "base_uri": "https://localhost:8080/",
          "height": 456
        },
        "outputId": "4c26a81d-ac3b-4cf8-d292-b58b2a200b5f"
      },
      "outputs": [
        {
          "output_type": "display_data",
          "data": {
            "text/plain": [
              "<Figure size 700x500 with 1 Axes>"
            ],
            "image/png": "[encoded data removed]"
          },
          "metadata": {}
        }
      ],
      "source": [
        "sns.set()\n",
        "plt.figure(figsize=(7, 5))\n",
        "\n",
        "result = gaussian_filter1d(result, sigma=0.2)  # for smoother graph\n",
        "uniform = gaussian_filter1d(uniform, sigma=0.2)\n",
        "bald = gaussian_filter1d(bald, sigma=0.2)\n",
        "max_entropy = gaussian_filter1d(max_entropy, sigma=0.2)\n",
        "var_ratios = gaussian_filter1d(var_ratios, sigma=0.2)\n",
        "\n",
        "plt.plot(result, label=\"MBR\")\n",
        "plt.plot(uniform, label=\"Random\")\n",
        "plt.plot(bald, label=\"BALD\")\n",
        "plt.plot(max_entropy, label=\"Max Entropy\")\n",
        "plt.plot(var_ratios, label=\"Var Ratios\")\n",
        "plt.plot(informative_cluster_diverse_sampling, label=\"Informative Cluster Sampling\")\n",
        "\n",
        "plt.ylim([0.90, 1])\n",
        "plt.legend()\n",
        "plt.show()"
      ]
    }
  ],
  "metadata": {
    "accelerator": "GPU",
    "colab": {
      "provenance": [],
      "include_colab_link": true
    },
    "kernelspec": {
      "display_name": "Python 3",
      "name": "python3"
    }
  },
  "nbformat": 4,
  "nbformat_minor": 0
}